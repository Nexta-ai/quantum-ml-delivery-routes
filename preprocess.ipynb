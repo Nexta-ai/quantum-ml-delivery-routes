{
 "cells": [
  {
   "cell_type": "code",
   "execution_count": null,
   "id": "8428c5ec",
   "metadata": {},
   "outputs": [],
   "source": [
    "import pandas as pd\n",
    "import matplotlib.pyplot as plt\n",
    "import seaborn as sns"
   ]
  },
  {
   "cell_type": "code",
   "execution_count": null,
   "id": "726902c2",
   "metadata": {},
   "outputs": [],
   "source": [
    "# Path to the dataset\n",
    "file_path = 'data/delivery data.csv'"
   ]
  },
  {
   "cell_type": "code",
   "execution_count": null,
   "id": "f2fbbaf3",
   "metadata": {},
   "outputs": [],
   "source": [
    "# Load the CSV data\n",
    "data = pd.read_csv(file_path)"
   ]
  },
  {
   "cell_type": "code",
   "execution_count": null,
   "id": "c19960d9",
   "metadata": {},
   "outputs": [],
   "source": [
    "# Display the first few rows\n",
    "print(data.head())\n",
    "# Check for missing values\n",
    "print(data.isnull().sum())\n",
    "import pandas as pd"
   ]
  },
  {
   "cell_type": "code",
   "execution_count": null,
   "id": "5c3cef9e",
   "metadata": {},
   "outputs": [],
   "source": [
    "# Load the dataset\n",
    "file_path = 'data/delivery data.csv'\n",
    "data = pd.read_csv(file_path)"
   ]
  },
  {
   "cell_type": "code",
   "execution_count": null,
   "id": "a247c6e5",
   "metadata": {},
   "outputs": [],
   "source": [
    "# Fill missing values for numeric columns with median\n",
    "data['Delivery_person_Age'].fillna(data['Delivery_person_Age'].median(), inplace=True)\n",
    "data['Delivery_person_Ratings'].fillna(data['Delivery_person_Ratings'].median(), inplace=True)\n",
    "data['multiple_deliveries'].fillna(data['multiple_deliveries'].median(), inplace=True)"
   ]
  },
  {
   "cell_type": "code",
   "execution_count": null,
   "id": "947bd037",
   "metadata": {},
   "outputs": [],
   "source": [
    "# Fill missing values for categorical columns with mode\n",
    "data['Weather_conditions'].fillna(data['Weather_conditions'].mode()[0], inplace=True)\n",
    "data['Road_traffic_density'].fillna(data['Road_traffic_density'].mode()[0], inplace=True)\n",
    "data['Festival'].fillna(data['Festival'].mode()[0], inplace=True)\n",
    "data['City'].fillna(data['City'].mode()[0], inplace=True)"
   ]
  },
  {
   "cell_type": "code",
   "execution_count": null,
   "id": "28894e4f",
   "metadata": {},
   "outputs": [],
   "source": [
    "# Impute missing values in 'Time_Orderd' with the mode\n",
    "data['Time_Orderd'].fillna(data['Time_Orderd'].mode()[0], inplace=True)"
   ]
  },
  {
   "cell_type": "code",
   "execution_count": null,
   "id": "7cbc146f",
   "metadata": {},
   "outputs": [],
   "source": [
    "# Verify if there are any remaining missing values\n",
    "print(data.isnull().sum())"
   ]
  },
  {
   "cell_type": "code",
   "execution_count": null,
   "id": "c3423fda",
   "metadata": {},
   "outputs": [],
   "source": [
    "# Save the cleaned data to a new CSV file for future use\n",
    "data.to_csv('data/preprocessed_delivery_data.csv', index=False)"
   ]
  },
  {
   "cell_type": "code",
   "execution_count": null,
   "id": "17ccdf67",
   "metadata": {
    "lines_to_next_cell": 2
   },
   "outputs": [],
   "source": [
    "print(\"Preprocessing complete. Cleaned data saved to 'data/preprocessed_delivery_data.csv'.\")"
   ]
  }
 ],
 "metadata": {
  "jupytext": {
   "cell_metadata_filter": "-all",
   "main_language": "python",
   "notebook_metadata_filter": "-all"
  }
 },
 "nbformat": 4,
 "nbformat_minor": 5
}
