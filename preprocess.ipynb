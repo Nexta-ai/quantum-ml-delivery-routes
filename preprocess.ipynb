{
 "cells": [
  {
   "cell_type": "code",
   "execution_count": 8,
   "id": "8428c5ec",
   "metadata": {},
   "outputs": [],
   "source": [
    "import pandas as pd\n",
    "import matplotlib.pyplot as plt\n",
    "import seaborn as sns"
   ]
  },
  {
   "cell_type": "code",
   "execution_count": 9,
   "id": "726902c2",
   "metadata": {},
   "outputs": [],
   "source": [
    "# Path to the dataset\n",
    "file_path = 'data/delivery data.csv'"
   ]
  },
  {
   "cell_type": "code",
   "execution_count": 10,
   "id": "f2fbbaf3",
   "metadata": {},
   "outputs": [],
   "source": [
    "# Load the CSV data\n",
    "data = pd.read_csv(file_path)"
   ]
  },
  {
   "cell_type": "code",
   "execution_count": 11,
   "id": "c19960d9",
   "metadata": {},
   "outputs": [
    {
     "name": "stdout",
     "output_type": "stream",
     "text": [
      "       ID Delivery_person_ID  Delivery_person_Age  Delivery_person_Ratings  \\\n",
      "0  0xcdcd      DEHRES17DEL01                 36.0                      4.2   \n",
      "1  0xd987      KOCRES16DEL01                 21.0                      4.7   \n",
      "2  0x2784     PUNERES13DEL03                 23.0                      4.7   \n",
      "3  0xc8b6     LUDHRES15DEL02                 34.0                      4.3   \n",
      "4  0xdb64      KNPRES14DEL02                 24.0                      4.7   \n",
      "\n",
      "   Restaurant_latitude  Restaurant_longitude  Delivery_location_latitude  \\\n",
      "0            30.327968             78.046106                   30.397968   \n",
      "1            10.003064             76.307589                   10.043064   \n",
      "2            18.562450             73.916619                   18.652450   \n",
      "3            30.899584             75.809346                   30.919584   \n",
      "4            26.463504             80.372929                   26.593504   \n",
      "\n",
      "   Delivery_location_longitude  Order_Date Time_Orderd Time_Order_picked  \\\n",
      "0                    78.116106   12/2/2022       21:55             22:10   \n",
      "1                    76.347589  13-02-2022       14:55             15:05   \n",
      "2                    74.006619    4/3/2022       17:30             17:40   \n",
      "3                    75.829346  13-02-2022        9:20              9:30   \n",
      "4                    80.502929  14-02-2022       19:50             20:05   \n",
      "\n",
      "  Weather_conditions Road_traffic_density  Vehicle_condition Type_of_order  \\\n",
      "0                Fog                  Jam                  2         Snack   \n",
      "1             Stormy                 High                  1          Meal   \n",
      "2         Sandstorms               Medium                  1        Drinks   \n",
      "3         Sandstorms                  Low                  0        Buffet   \n",
      "4                Fog                  Jam                  1         Snack   \n",
      "\n",
      "  Type_of_vehicle  multiple_deliveries Festival           City  \\\n",
      "0      motorcycle                  3.0       No  Metropolitian   \n",
      "1      motorcycle                  1.0       No  Metropolitian   \n",
      "2         scooter                  1.0       No  Metropolitian   \n",
      "3      motorcycle                  0.0       No  Metropolitian   \n",
      "4         scooter                  1.0       No  Metropolitian   \n",
      "\n",
      "   Time_taken (min)  \n",
      "0                46  \n",
      "1                23  \n",
      "2                21  \n",
      "3                20  \n",
      "4                41  \n",
      "ID                                0\n",
      "Delivery_person_ID                0\n",
      "Delivery_person_Age            1854\n",
      "Delivery_person_Ratings        1908\n",
      "Restaurant_latitude               0\n",
      "Restaurant_longitude              0\n",
      "Delivery_location_latitude        0\n",
      "Delivery_location_longitude       0\n",
      "Order_Date                        0\n",
      "Time_Orderd                    1731\n",
      "Time_Order_picked                 0\n",
      "Weather_conditions              616\n",
      "Road_traffic_density            601\n",
      "Vehicle_condition                 0\n",
      "Type_of_order                     0\n",
      "Type_of_vehicle                   0\n",
      "multiple_deliveries             993\n",
      "Festival                        228\n",
      "City                           1200\n",
      "Time_taken (min)                  0\n",
      "dtype: int64\n"
     ]
    }
   ],
   "source": [
    "# Display the first few rows\n",
    "print(data.head())\n",
    "# Check for missing values\n",
    "print(data.isnull().sum())\n",
    "import pandas as pd"
   ]
  },
  {
   "cell_type": "code",
   "execution_count": 12,
   "id": "5c3cef9e",
   "metadata": {},
   "outputs": [],
   "source": [
    "# Load the dataset\n",
    "file_path = 'data/delivery data.csv'\n",
    "data = pd.read_csv(file_path)"
   ]
  },
  {
   "cell_type": "code",
   "execution_count": 15,
   "id": "a247c6e5",
   "metadata": {},
   "outputs": [],
   "source": [
    "# Fill missing values for numeric columns with median\n",
    "data['Delivery_person_Age'] = data['Delivery_person_Age'].fillna(data['Delivery_person_Age'].median())\n",
    "data['Delivery_person_Ratings'] = data['Delivery_person_Ratings'].fillna(data['Delivery_person_Ratings'].median())\n",
    "data['multiple_deliveries'] = data['multiple_deliveries'].fillna(data['multiple_deliveries'].median())\n",
    "\n",
    "# Fill missing values for categorical columns with mode\n",
    "data['Weather_conditions'] = data['Weather_conditions'].fillna(data['Weather_conditions'].mode()[0])\n",
    "data['Road_traffic_density'] = data['Road_traffic_density'].fillna(data['Road_traffic_density'].mode()[0])\n",
    "data['Festival'] = data['Festival'].fillna(data['Festival'].mode()[0])\n",
    "data['City'] = data['City'].fillna(data['City'].mode()[0])\n",
    "\n",
    "# Impute missing values in 'Time_Orderd' with the mode\n",
    "data['Time_Orderd'] = data['Time_Orderd'].fillna(data['Time_Orderd'].mode()[0])\n"
   ]
  },
  {
   "cell_type": "code",
   "execution_count": 14,
   "id": "947bd037",
   "metadata": {},
   "outputs": [
    {
     "name": "stderr",
     "output_type": "stream",
     "text": [
      "/var/folders/cb/b76x0hrn7996s_ks12zkdjw80000gn/T/ipykernel_23050/3823314408.py:2: FutureWarning: A value is trying to be set on a copy of a DataFrame or Series through chained assignment using an inplace method.\n",
      "The behavior will change in pandas 3.0. This inplace method will never work because the intermediate object on which we are setting values always behaves as a copy.\n",
      "\n",
      "For example, when doing 'df[col].method(value, inplace=True)', try using 'df.method({col: value}, inplace=True)' or df[col] = df[col].method(value) instead, to perform the operation inplace on the original object.\n",
      "\n",
      "\n",
      "  data['Weather_conditions'].fillna(data['Weather_conditions'].mode()[0], inplace=True)\n",
      "/var/folders/cb/b76x0hrn7996s_ks12zkdjw80000gn/T/ipykernel_23050/3823314408.py:3: FutureWarning: A value is trying to be set on a copy of a DataFrame or Series through chained assignment using an inplace method.\n",
      "The behavior will change in pandas 3.0. This inplace method will never work because the intermediate object on which we are setting values always behaves as a copy.\n",
      "\n",
      "For example, when doing 'df[col].method(value, inplace=True)', try using 'df.method({col: value}, inplace=True)' or df[col] = df[col].method(value) instead, to perform the operation inplace on the original object.\n",
      "\n",
      "\n",
      "  data['Road_traffic_density'].fillna(data['Road_traffic_density'].mode()[0], inplace=True)\n",
      "/var/folders/cb/b76x0hrn7996s_ks12zkdjw80000gn/T/ipykernel_23050/3823314408.py:4: FutureWarning: A value is trying to be set on a copy of a DataFrame or Series through chained assignment using an inplace method.\n",
      "The behavior will change in pandas 3.0. This inplace method will never work because the intermediate object on which we are setting values always behaves as a copy.\n",
      "\n",
      "For example, when doing 'df[col].method(value, inplace=True)', try using 'df.method({col: value}, inplace=True)' or df[col] = df[col].method(value) instead, to perform the operation inplace on the original object.\n",
      "\n",
      "\n",
      "  data['Festival'].fillna(data['Festival'].mode()[0], inplace=True)\n",
      "/var/folders/cb/b76x0hrn7996s_ks12zkdjw80000gn/T/ipykernel_23050/3823314408.py:5: FutureWarning: A value is trying to be set on a copy of a DataFrame or Series through chained assignment using an inplace method.\n",
      "The behavior will change in pandas 3.0. This inplace method will never work because the intermediate object on which we are setting values always behaves as a copy.\n",
      "\n",
      "For example, when doing 'df[col].method(value, inplace=True)', try using 'df.method({col: value}, inplace=True)' or df[col] = df[col].method(value) instead, to perform the operation inplace on the original object.\n",
      "\n",
      "\n",
      "  data['City'].fillna(data['City'].mode()[0], inplace=True)\n"
     ]
    }
   ],
   "source": [
    "# Fill missing values for categorical columns with mode\n",
    "data['Weather_conditions'].fillna(data['Weather_conditions'].mode()[0], inplace=True)\n",
    "data['Road_traffic_density'].fillna(data['Road_traffic_density'].mode()[0], inplace=True)\n",
    "data['Festival'].fillna(data['Festival'].mode()[0], inplace=True)\n",
    "data['City'].fillna(data['City'].mode()[0], inplace=True)"
   ]
  },
  {
   "cell_type": "code",
   "execution_count": null,
   "id": "28894e4f",
   "metadata": {},
   "outputs": [],
   "source": [
    "# Impute missing values in 'Time_Orderd' with the mode\n",
    "data['Time_Orderd'].fillna(data['Time_Orderd'].mode()[0], inplace=True)"
   ]
  },
  {
   "cell_type": "code",
   "execution_count": null,
   "id": "7cbc146f",
   "metadata": {},
   "outputs": [],
   "source": [
    "# Verify if there are any remaining missing values\n",
    "print(data.isnull().sum())"
   ]
  },
  {
   "cell_type": "code",
   "execution_count": null,
   "id": "c3423fda",
   "metadata": {},
   "outputs": [],
   "source": [
    "# Save the cleaned data to a new CSV file for future use\n",
    "data.to_csv('data/preprocessed_delivery_data.csv', index=False)"
   ]
  },
  {
   "cell_type": "code",
   "execution_count": null,
   "id": "17ccdf67",
   "metadata": {
    "lines_to_next_cell": 2
   },
   "outputs": [],
   "source": [
    "print(\"Preprocessing complete. Cleaned data saved to 'data/preprocessed_delivery_data.csv'.\")"
   ]
  }
 ],
 "metadata": {
  "jupytext": {
   "cell_metadata_filter": "-all",
   "main_language": "python",
   "notebook_metadata_filter": "-all"
  },
  "kernelspec": {
   "display_name": "Python 3",
   "language": "python",
   "name": "python3"
  },
  "language_info": {
   "codemirror_mode": {
    "name": "ipython",
    "version": 3
   },
   "file_extension": ".py",
   "mimetype": "text/x-python",
   "name": "python",
   "nbconvert_exporter": "python",
   "pygments_lexer": "ipython3",
   "version": "3.9.6"
  }
 },
 "nbformat": 4,
 "nbformat_minor": 5
}
